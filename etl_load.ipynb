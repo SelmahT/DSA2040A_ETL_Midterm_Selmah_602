{
 "cells": [
  {
   "cell_type": "markdown",
   "id": "ca445723",
   "metadata": {},
   "source": [
    "##  Load Phase: Setup\n",
    "\n",
    "We begin by importing required libraries (`pandas`, `sqlite3`, and `os`) and ensuring that the `loaded/` folder exists. This is where we'll store our structured database files.\n"
   ]
  },
  {
   "cell_type": "code",
   "execution_count": 7,
   "id": "bce615f7",
   "metadata": {},
   "outputs": [
    {
     "name": "stdout",
     "output_type": "stream",
     "text": [
      " Libraries loaded and output folder ready.\n"
     ]
    }
   ],
   "source": [
    "# --- Load Phase Setup ---\n",
    "\n",
    "import pandas as pd\n",
    "import sqlite3  # We'll use SQLite for storing the data\n",
    "import os\n",
    "\n",
    "# Ensure the 'loaded' directory exists to store database files\n",
    "os.makedirs(\"loaded\", exist_ok=True)\n",
    "\n",
    "print(\" Libraries loaded and output folder ready.\")\n"
   ]
  },
  {
   "cell_type": "markdown",
   "id": "a83bd74e",
   "metadata": {},
   "source": [
    "###  Load Full Transformed Dataset\n",
    "\n",
    "We load `transformed_full.csv` into a SQLite database (`full_data.db`) stored in the `loaded/` directory. This makes the data queryable using SQL for future analysis or warehousing.\n"
   ]
  },
  {
   "cell_type": "code",
   "execution_count": 8,
   "id": "b19bb933",
   "metadata": {},
   "outputs": [
    {
     "name": "stdout",
     "output_type": "stream",
     "text": [
      " Loaded full dataset into SQLite. Previewing top 5 rows:\n"
     ]
    },
    {
     "data": {
      "text/html": [
       "<div>\n",
       "<style scoped>\n",
       "    .dataframe tbody tr th:only-of-type {\n",
       "        vertical-align: middle;\n",
       "    }\n",
       "\n",
       "    .dataframe tbody tr th {\n",
       "        vertical-align: top;\n",
       "    }\n",
       "\n",
       "    .dataframe thead th {\n",
       "        text-align: right;\n",
       "    }\n",
       "</style>\n",
       "<table border=\"1\" class=\"dataframe\">\n",
       "  <thead>\n",
       "    <tr style=\"text-align: right;\">\n",
       "      <th></th>\n",
       "      <th>order_id</th>\n",
       "      <th>customer_name</th>\n",
       "      <th>product</th>\n",
       "      <th>quantity</th>\n",
       "      <th>unit_price</th>\n",
       "      <th>order_date</th>\n",
       "      <th>region</th>\n",
       "      <th>total_price</th>\n",
       "      <th>price_tier</th>\n",
       "    </tr>\n",
       "  </thead>\n",
       "  <tbody>\n",
       "    <tr>\n",
       "      <th>0</th>\n",
       "      <td>3</td>\n",
       "      <td>Charlie</td>\n",
       "      <td>Laptop</td>\n",
       "      <td>2.0</td>\n",
       "      <td>250.0</td>\n",
       "      <td>2024-01-08</td>\n",
       "      <td>None</td>\n",
       "      <td>500.0</td>\n",
       "      <td>Medium</td>\n",
       "    </tr>\n",
       "    <tr>\n",
       "      <th>1</th>\n",
       "      <td>4</td>\n",
       "      <td>Eve</td>\n",
       "      <td>Laptop</td>\n",
       "      <td>2.0</td>\n",
       "      <td>750.0</td>\n",
       "      <td>2024-01-07</td>\n",
       "      <td>West</td>\n",
       "      <td>1500.0</td>\n",
       "      <td>High</td>\n",
       "    </tr>\n",
       "    <tr>\n",
       "      <th>2</th>\n",
       "      <td>7</td>\n",
       "      <td>Charlie</td>\n",
       "      <td>Monitor</td>\n",
       "      <td>2.0</td>\n",
       "      <td>750.0</td>\n",
       "      <td>2024-02-02</td>\n",
       "      <td>West</td>\n",
       "      <td>1500.0</td>\n",
       "      <td>High</td>\n",
       "    </tr>\n",
       "    <tr>\n",
       "      <th>3</th>\n",
       "      <td>10</td>\n",
       "      <td>Eve</td>\n",
       "      <td>Monitor</td>\n",
       "      <td>1.0</td>\n",
       "      <td>500.0</td>\n",
       "      <td>2024-02-28</td>\n",
       "      <td>North</td>\n",
       "      <td>500.0</td>\n",
       "      <td>Medium</td>\n",
       "    </tr>\n",
       "    <tr>\n",
       "      <th>4</th>\n",
       "      <td>11</td>\n",
       "      <td>None</td>\n",
       "      <td>Monitor</td>\n",
       "      <td>3.0</td>\n",
       "      <td>750.0</td>\n",
       "      <td>2024-04-24</td>\n",
       "      <td>West</td>\n",
       "      <td>2250.0</td>\n",
       "      <td>High</td>\n",
       "    </tr>\n",
       "  </tbody>\n",
       "</table>\n",
       "</div>"
      ],
      "text/plain": [
       "   order_id customer_name  product  quantity  unit_price  order_date region  \\\n",
       "0         3       Charlie   Laptop       2.0       250.0  2024-01-08   None   \n",
       "1         4           Eve   Laptop       2.0       750.0  2024-01-07   West   \n",
       "2         7       Charlie  Monitor       2.0       750.0  2024-02-02   West   \n",
       "3        10           Eve  Monitor       1.0       500.0  2024-02-28  North   \n",
       "4        11          None  Monitor       3.0       750.0  2024-04-24   West   \n",
       "\n",
       "   total_price price_tier  \n",
       "0        500.0     Medium  \n",
       "1       1500.0       High  \n",
       "2       1500.0       High  \n",
       "3        500.0     Medium  \n",
       "4       2250.0       High  "
      ]
     },
     "metadata": {},
     "output_type": "display_data"
    }
   ],
   "source": [
    "# Load the transformed full dataset\n",
    "df_full = pd.read_csv(\"transformed/transformed_full.csv\")\n",
    "\n",
    "# Connect to SQLite database (creates it if it doesn't exist)\n",
    "conn_full = sqlite3.connect(\"loaded/full_data.db\")\n",
    "\n",
    "# Load data into a table named 'full_data'\n",
    "df_full.to_sql(\"full_data\", conn_full, if_exists=\"replace\", index=False)\n",
    "\n",
    "# Preview: Run SQL query to show top 5 records\n",
    "print(\" Loaded full dataset into SQLite. Previewing top 5 rows:\")\n",
    "preview_full = pd.read_sql(\"SELECT * FROM full_data LIMIT 5\", conn_full)\n",
    "display(preview_full)\n",
    "\n",
    "# Close connection\n",
    "conn_full.close()\n"
   ]
  },
  {
   "cell_type": "markdown",
   "id": "5cfc2852",
   "metadata": {},
   "source": [
    "###  Load Incremental Transformed Dataset\n",
    "\n",
    "We load the transformed incremental dataset into a separate SQLite database (`incremental_data.db`). This helps keep full and new records organized and traceable.\n"
   ]
  },
  {
   "cell_type": "code",
   "execution_count": 9,
   "id": "9fce889b",
   "metadata": {},
   "outputs": [
    {
     "name": "stdout",
     "output_type": "stream",
     "text": [
      " Loaded incremental dataset into SQLite. Previewing top 5 rows:\n"
     ]
    },
    {
     "data": {
      "text/html": [
       "<div>\n",
       "<style scoped>\n",
       "    .dataframe tbody tr th:only-of-type {\n",
       "        vertical-align: middle;\n",
       "    }\n",
       "\n",
       "    .dataframe tbody tr th {\n",
       "        vertical-align: top;\n",
       "    }\n",
       "\n",
       "    .dataframe thead th {\n",
       "        text-align: right;\n",
       "    }\n",
       "</style>\n",
       "<table border=\"1\" class=\"dataframe\">\n",
       "  <thead>\n",
       "    <tr style=\"text-align: right;\">\n",
       "      <th></th>\n",
       "      <th>order_id</th>\n",
       "      <th>customer_name</th>\n",
       "      <th>product</th>\n",
       "      <th>quantity</th>\n",
       "      <th>unit_price</th>\n",
       "      <th>order_date</th>\n",
       "      <th>region</th>\n",
       "      <th>total_price</th>\n",
       "      <th>price_tier</th>\n",
       "    </tr>\n",
       "  </thead>\n",
       "  <tbody>\n",
       "    <tr>\n",
       "      <th>0</th>\n",
       "      <td>102</td>\n",
       "      <td>None</td>\n",
       "      <td>Laptop</td>\n",
       "      <td>1.0</td>\n",
       "      <td>300.0</td>\n",
       "      <td>2024-05-07</td>\n",
       "      <td>Central</td>\n",
       "      <td>300.0</td>\n",
       "      <td>Medium</td>\n",
       "    </tr>\n",
       "    <tr>\n",
       "      <th>1</th>\n",
       "      <td>103</td>\n",
       "      <td>None</td>\n",
       "      <td>Laptop</td>\n",
       "      <td>1.0</td>\n",
       "      <td>600.0</td>\n",
       "      <td>2024-05-04</td>\n",
       "      <td>Central</td>\n",
       "      <td>600.0</td>\n",
       "      <td>High</td>\n",
       "    </tr>\n",
       "    <tr>\n",
       "      <th>2</th>\n",
       "      <td>105</td>\n",
       "      <td>Heidi</td>\n",
       "      <td>Tablet</td>\n",
       "      <td>2.0</td>\n",
       "      <td>600.0</td>\n",
       "      <td>2024-05-21</td>\n",
       "      <td>North</td>\n",
       "      <td>1200.0</td>\n",
       "      <td>High</td>\n",
       "    </tr>\n",
       "    <tr>\n",
       "      <th>3</th>\n",
       "      <td>106</td>\n",
       "      <td>None</td>\n",
       "      <td>Laptop</td>\n",
       "      <td>2.0</td>\n",
       "      <td>600.0</td>\n",
       "      <td>2024-05-18</td>\n",
       "      <td>Central</td>\n",
       "      <td>1200.0</td>\n",
       "      <td>High</td>\n",
       "    </tr>\n",
       "    <tr>\n",
       "      <th>4</th>\n",
       "      <td>107</td>\n",
       "      <td>None</td>\n",
       "      <td>Tablet</td>\n",
       "      <td>1.0</td>\n",
       "      <td>600.0</td>\n",
       "      <td>2024-05-13</td>\n",
       "      <td>Central</td>\n",
       "      <td>600.0</td>\n",
       "      <td>High</td>\n",
       "    </tr>\n",
       "  </tbody>\n",
       "</table>\n",
       "</div>"
      ],
      "text/plain": [
       "   order_id customer_name product  quantity  unit_price  order_date   region  \\\n",
       "0       102          None  Laptop       1.0       300.0  2024-05-07  Central   \n",
       "1       103          None  Laptop       1.0       600.0  2024-05-04  Central   \n",
       "2       105         Heidi  Tablet       2.0       600.0  2024-05-21    North   \n",
       "3       106          None  Laptop       2.0       600.0  2024-05-18  Central   \n",
       "4       107          None  Tablet       1.0       600.0  2024-05-13  Central   \n",
       "\n",
       "   total_price price_tier  \n",
       "0        300.0     Medium  \n",
       "1        600.0       High  \n",
       "2       1200.0       High  \n",
       "3       1200.0       High  \n",
       "4        600.0       High  "
      ]
     },
     "metadata": {},
     "output_type": "display_data"
    }
   ],
   "source": [
    "# Load the transformed incremental dataset\n",
    "df_incremental = pd.read_csv(\"transformed/transformed_incremental.csv\")\n",
    "\n",
    "# Connect to a new SQLite database for incremental data\n",
    "conn_incremental = sqlite3.connect(\"loaded/incremental_data.db\")\n",
    "\n",
    "# Save the data to a new table\n",
    "df_incremental.to_sql(\"incremental_data\", conn_incremental, if_exists=\"replace\", index=False)\n",
    "\n",
    "# Preview: Run SQL query to confirm it loaded correctly\n",
    "print(\" Loaded incremental dataset into SQLite. Previewing top 5 rows:\")\n",
    "preview_incremental = pd.read_sql(\"SELECT * FROM incremental_data LIMIT 5\", conn_incremental)\n",
    "display(preview_incremental)\n",
    "\n",
    "# Close the connection\n",
    "conn_incremental.close()\n"
   ]
  },
  {
   "cell_type": "markdown",
   "id": "fa850772",
   "metadata": {},
   "source": [
    "###  Bonus: Visualization – Total Quantity Sold by Region\n"
   ]
  },
  {
   "cell_type": "code",
   "execution_count": 10,
   "id": "dafcca88",
   "metadata": {},
   "outputs": [
    {
     "data": {
      "image/png": "[encoded data removed]",
      "text/plain": [
       "<Figure size 800x500 with 1 Axes>"
      ]
     },
     "metadata": {},
     "output_type": "display_data"
    }
   ],
   "source": [
    "# BONUS: Visualization of total quantity sold by region\n",
    "\n",
    "import matplotlib.pyplot as plt\n",
    "\n",
    "# Read transformed full CSV (if you haven't loaded already)\n",
    "df_full = pd.read_csv(\"transformed/transformed_full.csv\")\n",
    "\n",
    "# Group data by region and calculate total quantity\n",
    "grouped_quantity = df_full.groupby(\"region\")[\"quantity\"].sum()\n",
    "\n",
    "# Plotting\n",
    "plt.figure(figsize=(8, 5))\n",
    "grouped_quantity.plot(kind=\"bar\", color=\"teal\", edgecolor=\"black\")\n",
    "plt.title(\"Total Quantity Sold by Region\")\n",
    "plt.xlabel(\"Region\")\n",
    "plt.ylabel(\"Total Quantity\")\n",
    "plt.xticks(rotation=45)\n",
    "plt.tight_layout()\n",
    "plt.grid(axis=\"y\", linestyle=\"--\", alpha=0.6)\n",
    "plt.show()\n"
   ]
  },
  {
   "cell_type": "markdown",
   "id": "653fe077",
   "metadata": {},
   "source": [
    "###  Insights & Discussion\n",
    "\n",
    "The bar chart titled **\"Total Quantity Sold by Region\"** provides a quick visual summary of how sales are distributed across different regions.\n",
    "\n",
    "**Observations:**\n",
    "- Some regions (South and West) show significantly higher quantities sold, suggesting strong market presence or higher customer demand.\n",
    "- Other regions(East and North) may need further investigation for performance improvement or marketing efforts.\n",
    "- This kind of regional aggregation is useful for **inventory planning, marketing strategies, and regional analysis** in a business intelligence context.\n",
    "\n",
    "By adding this visualization to the ETL pipeline, we demonstrate how a cleaned and loaded dataset can be used for instant insights, making the entire pipeline more actionable for data-driven decision-making.\n"
   ]
  }
 ],
 "metadata": {
  "kernelspec": {
   "display_name": "Python 3",
   "language": "python",
   "name": "python3"
  },
  "language_info": {
   "codemirror_mode": {
    "name": "ipython",
    "version": 3
   },
   "file_extension": ".py",
   "mimetype": "text/x-python",
   "name": "python",
   "nbconvert_exporter": "python",
   "pygments_lexer": "ipython3",
   "version": "3.13.5"
  }
 },
 "nbformat": 4,
 "nbformat_minor": 5
}
